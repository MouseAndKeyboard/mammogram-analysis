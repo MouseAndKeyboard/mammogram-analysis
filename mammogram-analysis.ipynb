{
 "cells": [
  {
   "cell_type": "markdown",
   "metadata": {},
   "source": [
    "# Data\n",
    "#### We'll be using the \"mammographic masses\" public dataset from the UCI repository (source: https://archive.ics.uci.edu/ml/datasets/Mammographic+Mass)\n",
    "\n",
    "The data is stored in the ./data/ directory"
   ]
  },
  {
   "cell_type": "code",
   "execution_count": 182,
   "metadata": {},
   "outputs": [],
   "source": [
    "import pandas as pd\n",
    "import numpy as np\n",
    "import seaborn as sns\n",
    "from sklearn.experimental import enable_iterative_imputer\n",
    "from sklearn.impute import IterativeImputer\n",
    "from sklearn.preprocessing import StandardScaler"
   ]
  },
  {
   "cell_type": "code",
   "execution_count": 144,
   "metadata": {},
   "outputs": [
    {
     "data": {
      "text/html": [
       "<div>\n",
       "<style scoped>\n",
       "    .dataframe tbody tr th:only-of-type {\n",
       "        vertical-align: middle;\n",
       "    }\n",
       "\n",
       "    .dataframe tbody tr th {\n",
       "        vertical-align: top;\n",
       "    }\n",
       "\n",
       "    .dataframe thead th {\n",
       "        text-align: right;\n",
       "    }\n",
       "</style>\n",
       "<table border=\"1\" class=\"dataframe\">\n",
       "  <thead>\n",
       "    <tr style=\"text-align: right;\">\n",
       "      <th></th>\n",
       "      <th>BI-RADS</th>\n",
       "      <th>Age</th>\n",
       "      <th>Shape</th>\n",
       "      <th>Margin</th>\n",
       "      <th>Density</th>\n",
       "      <th>Severity</th>\n",
       "    </tr>\n",
       "  </thead>\n",
       "  <tbody>\n",
       "    <tr>\n",
       "      <td>0</td>\n",
       "      <td>5.0</td>\n",
       "      <td>67.0</td>\n",
       "      <td>3.0</td>\n",
       "      <td>5.0</td>\n",
       "      <td>3.0</td>\n",
       "      <td>1</td>\n",
       "    </tr>\n",
       "    <tr>\n",
       "      <td>1</td>\n",
       "      <td>4.0</td>\n",
       "      <td>43.0</td>\n",
       "      <td>1.0</td>\n",
       "      <td>1.0</td>\n",
       "      <td>NaN</td>\n",
       "      <td>1</td>\n",
       "    </tr>\n",
       "    <tr>\n",
       "      <td>2</td>\n",
       "      <td>5.0</td>\n",
       "      <td>58.0</td>\n",
       "      <td>4.0</td>\n",
       "      <td>5.0</td>\n",
       "      <td>3.0</td>\n",
       "      <td>1</td>\n",
       "    </tr>\n",
       "    <tr>\n",
       "      <td>3</td>\n",
       "      <td>4.0</td>\n",
       "      <td>28.0</td>\n",
       "      <td>1.0</td>\n",
       "      <td>1.0</td>\n",
       "      <td>3.0</td>\n",
       "      <td>0</td>\n",
       "    </tr>\n",
       "    <tr>\n",
       "      <td>4</td>\n",
       "      <td>5.0</td>\n",
       "      <td>74.0</td>\n",
       "      <td>1.0</td>\n",
       "      <td>5.0</td>\n",
       "      <td>NaN</td>\n",
       "      <td>1</td>\n",
       "    </tr>\n",
       "  </tbody>\n",
       "</table>\n",
       "</div>"
      ],
      "text/plain": [
       "   BI-RADS   Age  Shape  Margin  Density  Severity\n",
       "0      5.0  67.0    3.0     5.0      3.0         1\n",
       "1      4.0  43.0    1.0     1.0      NaN         1\n",
       "2      5.0  58.0    4.0     5.0      3.0         1\n",
       "3      4.0  28.0    1.0     1.0      3.0         0\n",
       "4      5.0  74.0    1.0     5.0      NaN         1"
      ]
     },
     "execution_count": 144,
     "metadata": {},
     "output_type": "execute_result"
    }
   ],
   "source": [
    "headers = [\"BI-RADS\", \"Age\", \"Shape\", \"Margin\", \"Density\", \"Severity\"]\n",
    "dataset = pd.read_csv('./data/mammographic_masses.data', header=None, names=headers, na_values='?')\n",
    "dataset.head()"
   ]
  },
  {
   "cell_type": "code",
   "execution_count": 145,
   "metadata": {},
   "outputs": [
    {
     "data": {
      "text/html": [
       "<div>\n",
       "<style scoped>\n",
       "    .dataframe tbody tr th:only-of-type {\n",
       "        vertical-align: middle;\n",
       "    }\n",
       "\n",
       "    .dataframe tbody tr th {\n",
       "        vertical-align: top;\n",
       "    }\n",
       "\n",
       "    .dataframe thead th {\n",
       "        text-align: right;\n",
       "    }\n",
       "</style>\n",
       "<table border=\"1\" class=\"dataframe\">\n",
       "  <thead>\n",
       "    <tr style=\"text-align: right;\">\n",
       "      <th></th>\n",
       "      <th>BI-RADS</th>\n",
       "      <th>Age</th>\n",
       "      <th>Shape</th>\n",
       "      <th>Margin</th>\n",
       "      <th>Density</th>\n",
       "      <th>Severity</th>\n",
       "    </tr>\n",
       "  </thead>\n",
       "  <tbody>\n",
       "    <tr>\n",
       "      <td>count</td>\n",
       "      <td>959.000000</td>\n",
       "      <td>956.000000</td>\n",
       "      <td>930.000000</td>\n",
       "      <td>913.000000</td>\n",
       "      <td>885.000000</td>\n",
       "      <td>961.000000</td>\n",
       "    </tr>\n",
       "    <tr>\n",
       "      <td>mean</td>\n",
       "      <td>4.348279</td>\n",
       "      <td>55.487448</td>\n",
       "      <td>2.721505</td>\n",
       "      <td>2.796276</td>\n",
       "      <td>2.910734</td>\n",
       "      <td>0.463059</td>\n",
       "    </tr>\n",
       "    <tr>\n",
       "      <td>std</td>\n",
       "      <td>1.783031</td>\n",
       "      <td>14.480131</td>\n",
       "      <td>1.242792</td>\n",
       "      <td>1.566546</td>\n",
       "      <td>0.380444</td>\n",
       "      <td>0.498893</td>\n",
       "    </tr>\n",
       "    <tr>\n",
       "      <td>min</td>\n",
       "      <td>0.000000</td>\n",
       "      <td>18.000000</td>\n",
       "      <td>1.000000</td>\n",
       "      <td>1.000000</td>\n",
       "      <td>1.000000</td>\n",
       "      <td>0.000000</td>\n",
       "    </tr>\n",
       "    <tr>\n",
       "      <td>25%</td>\n",
       "      <td>4.000000</td>\n",
       "      <td>45.000000</td>\n",
       "      <td>2.000000</td>\n",
       "      <td>1.000000</td>\n",
       "      <td>3.000000</td>\n",
       "      <td>0.000000</td>\n",
       "    </tr>\n",
       "    <tr>\n",
       "      <td>50%</td>\n",
       "      <td>4.000000</td>\n",
       "      <td>57.000000</td>\n",
       "      <td>3.000000</td>\n",
       "      <td>3.000000</td>\n",
       "      <td>3.000000</td>\n",
       "      <td>0.000000</td>\n",
       "    </tr>\n",
       "    <tr>\n",
       "      <td>75%</td>\n",
       "      <td>5.000000</td>\n",
       "      <td>66.000000</td>\n",
       "      <td>4.000000</td>\n",
       "      <td>4.000000</td>\n",
       "      <td>3.000000</td>\n",
       "      <td>1.000000</td>\n",
       "    </tr>\n",
       "    <tr>\n",
       "      <td>max</td>\n",
       "      <td>55.000000</td>\n",
       "      <td>96.000000</td>\n",
       "      <td>4.000000</td>\n",
       "      <td>5.000000</td>\n",
       "      <td>4.000000</td>\n",
       "      <td>1.000000</td>\n",
       "    </tr>\n",
       "  </tbody>\n",
       "</table>\n",
       "</div>"
      ],
      "text/plain": [
       "          BI-RADS         Age       Shape      Margin     Density    Severity\n",
       "count  959.000000  956.000000  930.000000  913.000000  885.000000  961.000000\n",
       "mean     4.348279   55.487448    2.721505    2.796276    2.910734    0.463059\n",
       "std      1.783031   14.480131    1.242792    1.566546    0.380444    0.498893\n",
       "min      0.000000   18.000000    1.000000    1.000000    1.000000    0.000000\n",
       "25%      4.000000   45.000000    2.000000    1.000000    3.000000    0.000000\n",
       "50%      4.000000   57.000000    3.000000    3.000000    3.000000    0.000000\n",
       "75%      5.000000   66.000000    4.000000    4.000000    3.000000    1.000000\n",
       "max     55.000000   96.000000    4.000000    5.000000    4.000000    1.000000"
      ]
     },
     "execution_count": 145,
     "metadata": {},
     "output_type": "execute_result"
    }
   ],
   "source": [
    "dataset.describe()"
   ]
  },
  {
   "cell_type": "code",
   "execution_count": 146,
   "metadata": {},
   "outputs": [
    {
     "data": {
      "text/plain": [
       "BI-RADS      2\n",
       "Age          5\n",
       "Shape       31\n",
       "Margin      48\n",
       "Density     76\n",
       "Severity     0\n",
       "dtype: int64"
      ]
     },
     "execution_count": 146,
     "metadata": {},
     "output_type": "execute_result"
    }
   ],
   "source": [
    "dataset.isna().sum()"
   ]
  },
  {
   "cell_type": "code",
   "execution_count": 147,
   "metadata": {},
   "outputs": [
    {
     "data": {
      "text/html": [
       "<div>\n",
       "<style scoped>\n",
       "    .dataframe tbody tr th:only-of-type {\n",
       "        vertical-align: middle;\n",
       "    }\n",
       "\n",
       "    .dataframe tbody tr th {\n",
       "        vertical-align: top;\n",
       "    }\n",
       "\n",
       "    .dataframe thead th {\n",
       "        text-align: right;\n",
       "    }\n",
       "</style>\n",
       "<table border=\"1\" class=\"dataframe\">\n",
       "  <thead>\n",
       "    <tr style=\"text-align: right;\">\n",
       "      <th></th>\n",
       "      <th>BI-RADS</th>\n",
       "      <th>Age</th>\n",
       "      <th>Shape</th>\n",
       "      <th>Margin</th>\n",
       "      <th>Density</th>\n",
       "      <th>Severity</th>\n",
       "    </tr>\n",
       "  </thead>\n",
       "  <tbody>\n",
       "    <tr>\n",
       "      <td>BI-RADS</td>\n",
       "      <td>1.000000</td>\n",
       "      <td>0.094623</td>\n",
       "      <td>0.180120</td>\n",
       "      <td>0.157771</td>\n",
       "      <td>0.028356</td>\n",
       "      <td>0.223826</td>\n",
       "    </tr>\n",
       "    <tr>\n",
       "      <td>Age</td>\n",
       "      <td>0.094623</td>\n",
       "      <td>1.000000</td>\n",
       "      <td>0.380096</td>\n",
       "      <td>0.420913</td>\n",
       "      <td>0.052417</td>\n",
       "      <td>0.455216</td>\n",
       "    </tr>\n",
       "    <tr>\n",
       "      <td>Shape</td>\n",
       "      <td>0.180120</td>\n",
       "      <td>0.380096</td>\n",
       "      <td>1.000000</td>\n",
       "      <td>0.738014</td>\n",
       "      <td>0.073969</td>\n",
       "      <td>0.564763</td>\n",
       "    </tr>\n",
       "    <tr>\n",
       "      <td>Margin</td>\n",
       "      <td>0.157771</td>\n",
       "      <td>0.420913</td>\n",
       "      <td>0.738014</td>\n",
       "      <td>1.000000</td>\n",
       "      <td>0.124860</td>\n",
       "      <td>0.574498</td>\n",
       "    </tr>\n",
       "    <tr>\n",
       "      <td>Density</td>\n",
       "      <td>0.028356</td>\n",
       "      <td>0.052417</td>\n",
       "      <td>0.073969</td>\n",
       "      <td>0.124860</td>\n",
       "      <td>1.000000</td>\n",
       "      <td>0.068651</td>\n",
       "    </tr>\n",
       "    <tr>\n",
       "      <td>Severity</td>\n",
       "      <td>0.223826</td>\n",
       "      <td>0.455216</td>\n",
       "      <td>0.564763</td>\n",
       "      <td>0.574498</td>\n",
       "      <td>0.068651</td>\n",
       "      <td>1.000000</td>\n",
       "    </tr>\n",
       "  </tbody>\n",
       "</table>\n",
       "</div>"
      ],
      "text/plain": [
       "           BI-RADS       Age     Shape    Margin   Density  Severity\n",
       "BI-RADS   1.000000  0.094623  0.180120  0.157771  0.028356  0.223826\n",
       "Age       0.094623  1.000000  0.380096  0.420913  0.052417  0.455216\n",
       "Shape     0.180120  0.380096  1.000000  0.738014  0.073969  0.564763\n",
       "Margin    0.157771  0.420913  0.738014  1.000000  0.124860  0.574498\n",
       "Density   0.028356  0.052417  0.073969  0.124860  1.000000  0.068651\n",
       "Severity  0.223826  0.455216  0.564763  0.574498  0.068651  1.000000"
      ]
     },
     "execution_count": 147,
     "metadata": {},
     "output_type": "execute_result"
    }
   ],
   "source": [
    "clean.corr()"
   ]
  },
  {
   "cell_type": "markdown",
   "metadata": {},
   "source": [
    "This is a binary classification problem, our goal is to correctly predict the severity of a cancer based on the other features. \n",
    "\n",
    "The data work-flow is inspired by this video: https://www.youtube.com/watch?v=MpFZUshKypk"
   ]
  },
  {
   "cell_type": "code",
   "execution_count": 93,
   "metadata": {},
   "outputs": [],
   "source": [
    "def stage_details(f):\n",
    "    def wrapper(dataframe, *args, **kwargs):\n",
    "        result = f(dataframe, *args, **kwargs)\n",
    "        print(f'<{f.__name__}> dataframe shape: {result.shape}')\n",
    "        return result\n",
    "    \n",
    "    return wrapper"
   ]
  },
  {
   "cell_type": "code",
   "execution_count": 209,
   "metadata": {},
   "outputs": [],
   "source": [
    "@stage_details\n",
    "def start_pipeline(dataframe):\n",
    "    return dataframe.copy()\n",
    "\n",
    "@stage_details\n",
    "def format_data(dataframe):\n",
    "    dataframe = dataframe.drop(columns=[\"BI-RADS\"])\n",
    "    return dataframe\n",
    "\n",
    "@stage_details\n",
    "def clean_data(dataframe):\n",
    "    imp = IterativeImputer(max_iter=10, random_state=0)\n",
    "    clean = dataframe.dropna()\n",
    "    imp.fit(clean)\n",
    "    imputed = np.round(imp.transform(dataframe))\n",
    "    \n",
    "    imputed_dataframe = pd.DataFrame(data=imputed, columns=[\"Age\", \"Shape\", \"Margin\", \"Density\", \"Severity\"])\n",
    "    return imputed_dataframe\n",
    "\n",
    "@stage_details\n",
    "def normalise_data(dataframe):\n",
    "    scaler = StandardScaler()\n",
    "    \n",
    "    labels = dataframe['Severity']\n",
    "    dataframe = dataframe.drop(columns=['Severity'])\n",
    "    \n",
    "    scaler.fit(dataframe)\n",
    "    normalised_data = scaler.transform(dataframe)\n",
    "    normalised_dataframe = pd.DataFrame(data=normalised_data, columns=[\"Age\", \"Shape\", \"Margin\", \"Density\"])\n",
    "    normalised_dataframe['Severity'] = labels\n",
    "    return normalised_dataframe\n",
    "\n",
    "@stage_details\n",
    "def shuffle_data(dataframe):\n",
    "    return prepared_data.sample(frac=1)\n",
    "\n",
    "@stage_details\n",
    "def visualise_data(dataframe):\n",
    "    sns.pairplot(dataframe, hue='Severity', height=2.5)\n",
    "    return dataframe\n"
   ]
  },
  {
   "cell_type": "code",
   "execution_count": 252,
   "metadata": {},
   "outputs": [
    {
     "name": "stdout",
     "output_type": "stream",
     "text": [
      "<start_pipeline> dataframe shape: (961, 6)\n",
      "<format_data> dataframe shape: (961, 5)\n",
      "<clean_data> dataframe shape: (961, 5)\n",
      "<normalise_data> dataframe shape: (961, 5)\n",
      "<shuffle_data> dataframe shape: (961, 5)\n"
     ]
    }
   ],
   "source": [
    "prepared_data = (dataset.pipe(start_pipeline)\n",
    "        .pipe(format_data)\n",
    "        .pipe(clean_data)\n",
    "        .pipe(normalise_data)\n",
    "        .pipe(shuffle_data))\n",
    "\n",
    "X = prepared_data.drop(columns=['Severity'])\n",
    "Y = prepared_data['Severity']"
   ]
  },
  {
   "cell_type": "markdown",
   "metadata": {},
   "source": [
    "# Approach \\#1, Decision Tree"
   ]
  },
  {
   "cell_type": "raw",
   "metadata": {},
   "source": [
    "from sklearn.model_selection import train_test_split"
   ]
  },
  {
   "cell_type": "code",
   "execution_count": 315,
   "metadata": {},
   "outputs": [
    {
     "name": "stdout",
     "output_type": "stream",
     "text": [
      "Original: X: (961, 4), Y: (961,)\n",
      "Train: X: (240, 4), Y: (240,).\n",
      "Test: X: (721, 4), Y: (721,).\n"
     ]
    }
   ],
   "source": [
    "TrainX, TestX, TrainY, TestY = train_test_split(X, Y, train_size=0.25, shuffle=True)\n",
    "\n",
    "print(f'Original: X: {X.shape}, Y: {Y.shape}')\n",
    "print(f'Train: X: {TrainX.shape}, Y: {TrainY.shape}.')\n",
    "print(f'Test: X: {TestX.shape}, Y: {TestY.shape}.')"
   ]
  },
  {
   "cell_type": "code",
   "execution_count": 316,
   "metadata": {},
   "outputs": [],
   "source": [
    "from sklearn.tree import DecisionTreeClassifier"
   ]
  },
  {
   "cell_type": "code",
   "execution_count": 318,
   "metadata": {},
   "outputs": [],
   "source": [
    "Tree = DecisionTreeClassifier()\n",
    "s = Tree.fit(TrainX, TrainY)\n"
   ]
  },
  {
   "cell_type": "code",
   "execution_count": 322,
   "metadata": {},
   "outputs": [
    {
     "data": {
      "text/plain": [
       "0.6823855755894591"
      ]
     },
     "execution_count": 322,
     "metadata": {},
     "output_type": "execute_result"
    }
   ],
   "source": [
    "s.score(TestX, TestY)"
   ]
  },
  {
   "cell_type": "code",
   "execution_count": 321,
   "metadata": {},
   "outputs": [
    {
     "data": {
      "text/plain": [
       "1.0"
      ]
     },
     "execution_count": 321,
     "metadata": {},
     "output_type": "execute_result"
    }
   ],
   "source": [
    "correct / total"
   ]
  },
  {
   "cell_type": "code",
   "execution_count": 303,
   "metadata": {},
   "outputs": [],
   "source": []
  },
  {
   "cell_type": "code",
   "execution_count": 313,
   "metadata": {},
   "outputs": [],
   "source": []
  },
  {
   "cell_type": "code",
   "execution_count": null,
   "metadata": {},
   "outputs": [],
   "source": []
  },
  {
   "cell_type": "code",
   "execution_count": null,
   "metadata": {},
   "outputs": [],
   "source": []
  }
 ],
 "metadata": {
  "kernelspec": {
   "display_name": "Python 3",
   "language": "python",
   "name": "python3"
  },
  "language_info": {
   "codemirror_mode": {
    "name": "ipython",
    "version": 3
   },
   "file_extension": ".py",
   "mimetype": "text/x-python",
   "name": "python",
   "nbconvert_exporter": "python",
   "pygments_lexer": "ipython3",
   "version": "3.7.4"
  }
 },
 "nbformat": 4,
 "nbformat_minor": 4
}
